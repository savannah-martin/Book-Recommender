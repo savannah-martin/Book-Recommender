{
 "cells": [
  {
   "cell_type": "code",
   "execution_count": 13,
   "metadata": {},
   "outputs": [],
   "source": [
    "# load libraries needed\n",
    "import pandas as pd\n",
    "import numpy as np\n",
    "from sklearn.tree import DecisionTreeClassifier,plot_tree\n",
    "from sklearn.preprocessing import MinMaxScaler, LabelEncoder"
   ]
  },
  {
   "cell_type": "code",
   "execution_count": 14,
   "metadata": {},
   "outputs": [],
   "source": [
    "pd.set_option('display.max_columns', None)\n",
    "pd.set_option('display.expand_frame_repr', False)\n",
    "\n",
    "books = pd.read_csv('./data/Books.csv', low_memory = False)\n",
    "rating = pd.read_csv('./data/Ratings.csv', low_memory = False)\n",
    "users = pd.read_csv('./data/Users.csv', low_memory = True)\n",
    "\n",
    "# drop unnecessary columns\n",
    "books.drop(axis=1, labels=['Image-URL-S', 'Image-URL-M', 'Image-URL-L'], inplace=True)\n",
    "\n",
    "df = rating.merge(books, how='inner', on='ISBN')\n",
    "df = df.merge(users, how='inner', on='User-ID')\n",
    "\n",
    "# drop NaN values\n",
    "df.dropna(inplace=True)\n",
    "\n",
    "# df = df.drop(['User-ID'],axis=1)"
   ]
  },
  {
   "cell_type": "code",
   "execution_count": 15,
   "metadata": {},
   "outputs": [],
   "source": [
    "# extra cleaning for dirty data\n",
    "#bookAuthor is incorrectly loaded with bookTitle, hence making required corrections\n",
    "#ISBN '0789466953'\n",
    "df.loc[df.ISBN == '0789466953','Year-Of-Publication'] = 2000\n",
    "df.loc[df.ISBN == '0789466953','Book-Author'] = \"James Buckley\"\n",
    "df.loc[df.ISBN == '0789466953','Publisher'] = \"DK Publishing Inc\"\n",
    "df.loc[df.ISBN == '0789466953','Book-Title'] = \"DK Readers: Creating the X-Men, How Comic Books Come to Life (Level 4: Proficient Readers)\"\n",
    "\n",
    "#ISBN '078946697X'\n",
    "df.loc[df.ISBN == '078946697X','Year-Of-Publication'] = 2000\n",
    "df.loc[df.ISBN == '078946697X','Book-Author'] = \"Michael Teitelbaum\"\n",
    "df.loc[df.ISBN == '078946697X','Publisher'] = \"DK Publishing Inc\"\n",
    "df.loc[df.ISBN == '078946697X','Book-Title'] = \"DK Readers: Creating the X-Men, How It All Began (Level 4: Proficient Readers)\"\n",
    "\n",
    "#rechecking\n",
    "df.loc[(df.ISBN == '0789466953') | (df.ISBN == '078946697X'),:]\n",
    "\n",
    "df.loc[df.ISBN == '2070426769','Year-Of-Publication'] = 2003\n",
    "df.loc[df.ISBN == '2070426769','Book-Author'] = \"Jean-Marie Gustave Le ClÃ?Â©zio\"\n",
    "df.loc[df.ISBN == '2070426769','Publisher'] = \"Gallimard\"\n",
    "df.loc[df.ISBN == '2070426769','Book-Title'] = \"Peuple du ciel, suivi de 'Les Bergers\"\n",
    "\n",
    "df.loc[df.ISBN == '2070426769',:]\n",
    "\n",
    "df = df.drop(['ISBN'],axis=1)"
   ]
  },
  {
   "cell_type": "code",
   "execution_count": 16,
   "metadata": {},
   "outputs": [
    {
     "data": {
      "text/html": [
       "<div>\n",
       "<style scoped>\n",
       "    .dataframe tbody tr th:only-of-type {\n",
       "        vertical-align: middle;\n",
       "    }\n",
       "\n",
       "    .dataframe tbody tr th {\n",
       "        vertical-align: top;\n",
       "    }\n",
       "\n",
       "    .dataframe thead th {\n",
       "        text-align: right;\n",
       "    }\n",
       "</style>\n",
       "<table border=\"1\" class=\"dataframe\">\n",
       "  <thead>\n",
       "    <tr style=\"text-align: right;\">\n",
       "      <th></th>\n",
       "      <th>User-ID</th>\n",
       "      <th>Book-Rating</th>\n",
       "      <th>Book-Title</th>\n",
       "      <th>Book-Author</th>\n",
       "      <th>Year-Of-Publication</th>\n",
       "      <th>Publisher</th>\n",
       "      <th>Location</th>\n",
       "      <th>Age</th>\n",
       "    </tr>\n",
       "  </thead>\n",
       "  <tbody>\n",
       "    <tr>\n",
       "      <th>1</th>\n",
       "      <td>2313</td>\n",
       "      <td>5</td>\n",
       "      <td>57818</td>\n",
       "      <td>53017</td>\n",
       "      <td>2002</td>\n",
       "      <td>1207</td>\n",
       "      <td>2943</td>\n",
       "      <td>23.0</td>\n",
       "    </tr>\n",
       "    <tr>\n",
       "      <th>2</th>\n",
       "      <td>2313</td>\n",
       "      <td>9</td>\n",
       "      <td>51670</td>\n",
       "      <td>63275</td>\n",
       "      <td>1986</td>\n",
       "      <td>12909</td>\n",
       "      <td>2943</td>\n",
       "      <td>23.0</td>\n",
       "    </tr>\n",
       "    <tr>\n",
       "      <th>3</th>\n",
       "      <td>2313</td>\n",
       "      <td>8</td>\n",
       "      <td>77319</td>\n",
       "      <td>80306</td>\n",
       "      <td>1994</td>\n",
       "      <td>13558</td>\n",
       "      <td>2943</td>\n",
       "      <td>23.0</td>\n",
       "    </tr>\n",
       "    <tr>\n",
       "      <th>4</th>\n",
       "      <td>2313</td>\n",
       "      <td>9</td>\n",
       "      <td>45163</td>\n",
       "      <td>69139</td>\n",
       "      <td>1996</td>\n",
       "      <td>5779</td>\n",
       "      <td>2943</td>\n",
       "      <td>23.0</td>\n",
       "    </tr>\n",
       "    <tr>\n",
       "      <th>5</th>\n",
       "      <td>2313</td>\n",
       "      <td>5</td>\n",
       "      <td>168860</td>\n",
       "      <td>13190</td>\n",
       "      <td>1998</td>\n",
       "      <td>639</td>\n",
       "      <td>2943</td>\n",
       "      <td>23.0</td>\n",
       "    </tr>\n",
       "    <tr>\n",
       "      <th>...</th>\n",
       "      <td>...</td>\n",
       "      <td>...</td>\n",
       "      <td>...</td>\n",
       "      <td>...</td>\n",
       "      <td>...</td>\n",
       "      <td>...</td>\n",
       "      <td>...</td>\n",
       "      <td>...</td>\n",
       "    </tr>\n",
       "    <tr>\n",
       "      <th>1031130</th>\n",
       "      <td>276442</td>\n",
       "      <td>6</td>\n",
       "      <td>85581</td>\n",
       "      <td>23870</td>\n",
       "      <td>2001</td>\n",
       "      <td>4058</td>\n",
       "      <td>5280</td>\n",
       "      <td>62.0</td>\n",
       "    </tr>\n",
       "    <tr>\n",
       "      <th>1031131</th>\n",
       "      <td>276442</td>\n",
       "      <td>7</td>\n",
       "      <td>89014</td>\n",
       "      <td>46306</td>\n",
       "      <td>2002</td>\n",
       "      <td>7394</td>\n",
       "      <td>5280</td>\n",
       "      <td>62.0</td>\n",
       "    </tr>\n",
       "    <tr>\n",
       "      <th>1031133</th>\n",
       "      <td>276647</td>\n",
       "      <td>0</td>\n",
       "      <td>29962</td>\n",
       "      <td>48440</td>\n",
       "      <td>2001</td>\n",
       "      <td>12214</td>\n",
       "      <td>586</td>\n",
       "      <td>13.0</td>\n",
       "    </tr>\n",
       "    <tr>\n",
       "      <th>1031134</th>\n",
       "      <td>276647</td>\n",
       "      <td>10</td>\n",
       "      <td>69602</td>\n",
       "      <td>3591</td>\n",
       "      <td>1998</td>\n",
       "      <td>11866</td>\n",
       "      <td>586</td>\n",
       "      <td>13.0</td>\n",
       "    </tr>\n",
       "    <tr>\n",
       "      <th>1031135</th>\n",
       "      <td>276660</td>\n",
       "      <td>8</td>\n",
       "      <td>124307</td>\n",
       "      <td>17075</td>\n",
       "      <td>1985</td>\n",
       "      <td>5791</td>\n",
       "      <td>13159</td>\n",
       "      <td>15.0</td>\n",
       "    </tr>\n",
       "  </tbody>\n",
       "</table>\n",
       "<p>753297 rows × 8 columns</p>\n",
       "</div>"
      ],
      "text/plain": [
       "         User-ID  Book-Rating  Book-Title  Book-Author Year-Of-Publication  Publisher  Location   Age\n",
       "1           2313            5       57818        53017                2002       1207      2943  23.0\n",
       "2           2313            9       51670        63275                1986      12909      2943  23.0\n",
       "3           2313            8       77319        80306                1994      13558      2943  23.0\n",
       "4           2313            9       45163        69139                1996       5779      2943  23.0\n",
       "5           2313            5      168860        13190                1998        639      2943  23.0\n",
       "...          ...          ...         ...          ...                 ...        ...       ...   ...\n",
       "1031130   276442            6       85581        23870                2001       4058      5280  62.0\n",
       "1031131   276442            7       89014        46306                2002       7394      5280  62.0\n",
       "1031133   276647            0       29962        48440                2001      12214       586  13.0\n",
       "1031134   276647           10       69602         3591                1998      11866       586  13.0\n",
       "1031135   276660            8      124307        17075                1985       5791     13159  15.0\n",
       "\n",
       "[753297 rows x 8 columns]"
      ]
     },
     "execution_count": 16,
     "metadata": {},
     "output_type": "execute_result"
    }
   ],
   "source": [
    "le = LabelEncoder()\n",
    "df['Book-Title'] = le.fit_transform(df['Book-Title'])\n",
    "df['Book-Author'] = le.fit_transform(df['Book-Author'])\n",
    "df['Publisher'] = le.fit_transform(df['Publisher'])\n",
    "df['Location'] = le.fit_transform(df['Location'])\n",
    "\n",
    "df"
   ]
  },
  {
   "cell_type": "code",
   "execution_count": 17,
   "metadata": {},
   "outputs": [],
   "source": [
    "from sklearn.model_selection import train_test_split\n",
    "\n",
    "train_x, test_x, train_y, test_y= None,None,None,None\n",
    "# train_x, test_x, train_y, test_y = train_test_split(df.drop(['Book-Rating'],axis=1),\n",
    "#     df['Book-Rating'],random_state=42,train_size=0.8,test_size=0.2,shuffle=True)\n",
    "train_x, test_x, train_y, test_y = train_test_split(df,\n",
    "    df['Book-Rating'],random_state=42,train_size=0.8,test_size=0.2,shuffle=True)"
   ]
  },
  {
   "cell_type": "code",
   "execution_count": 18,
   "metadata": {},
   "outputs": [],
   "source": [
    "# svm is slow so we're throwing out data\n",
    "keep_percentage = 0.1  # Keeping 10%\n",
    "\n",
    "num_samples = len(train_x)\n",
    "num_samples_to_keep = int(num_samples * keep_percentage)\n",
    "\n",
    "random_indices_to_keep = np.random.choice(num_samples, num_samples_to_keep, replace=False)\n",
    "\n",
    "# Filter the data based on random indices using iloc\n",
    "train_x = train_x.iloc[random_indices_to_keep]\n",
    "train_y = train_y.iloc[random_indices_to_keep]\n"
   ]
  },
  {
   "cell_type": "code",
   "execution_count": 19,
   "metadata": {},
   "outputs": [],
   "source": [
    "from sklearn.preprocessing import StandardScaler\n",
    "from sklearn.neighbors import NearestNeighbors\n",
    "from sklearn.metrics import accuracy_score, precision_score, recall_score\n",
    "\n",
    "# Scaling the data\n",
    "scaler = StandardScaler()\n",
    "scaler.fit(train_x)\n",
    "train_x_scaled = scaler.transform(train_x)\n",
    "test_x_scaled = scaler.transform(test_x)"
   ]
  },
  {
   "cell_type": "code",
   "execution_count": 20,
   "metadata": {},
   "outputs": [
    {
     "data": {
      "text/html": [
       "<style>#sk-container-id-2 {color: black;background-color: white;}#sk-container-id-2 pre{padding: 0;}#sk-container-id-2 div.sk-toggleable {background-color: white;}#sk-container-id-2 label.sk-toggleable__label {cursor: pointer;display: block;width: 100%;margin-bottom: 0;padding: 0.3em;box-sizing: border-box;text-align: center;}#sk-container-id-2 label.sk-toggleable__label-arrow:before {content: \"▸\";float: left;margin-right: 0.25em;color: #696969;}#sk-container-id-2 label.sk-toggleable__label-arrow:hover:before {color: black;}#sk-container-id-2 div.sk-estimator:hover label.sk-toggleable__label-arrow:before {color: black;}#sk-container-id-2 div.sk-toggleable__content {max-height: 0;max-width: 0;overflow: hidden;text-align: left;background-color: #f0f8ff;}#sk-container-id-2 div.sk-toggleable__content pre {margin: 0.2em;color: black;border-radius: 0.25em;background-color: #f0f8ff;}#sk-container-id-2 input.sk-toggleable__control:checked~div.sk-toggleable__content {max-height: 200px;max-width: 100%;overflow: auto;}#sk-container-id-2 input.sk-toggleable__control:checked~label.sk-toggleable__label-arrow:before {content: \"▾\";}#sk-container-id-2 div.sk-estimator input.sk-toggleable__control:checked~label.sk-toggleable__label {background-color: #d4ebff;}#sk-container-id-2 div.sk-label input.sk-toggleable__control:checked~label.sk-toggleable__label {background-color: #d4ebff;}#sk-container-id-2 input.sk-hidden--visually {border: 0;clip: rect(1px 1px 1px 1px);clip: rect(1px, 1px, 1px, 1px);height: 1px;margin: -1px;overflow: hidden;padding: 0;position: absolute;width: 1px;}#sk-container-id-2 div.sk-estimator {font-family: monospace;background-color: #f0f8ff;border: 1px dotted black;border-radius: 0.25em;box-sizing: border-box;margin-bottom: 0.5em;}#sk-container-id-2 div.sk-estimator:hover {background-color: #d4ebff;}#sk-container-id-2 div.sk-parallel-item::after {content: \"\";width: 100%;border-bottom: 1px solid gray;flex-grow: 1;}#sk-container-id-2 div.sk-label:hover label.sk-toggleable__label {background-color: #d4ebff;}#sk-container-id-2 div.sk-serial::before {content: \"\";position: absolute;border-left: 1px solid gray;box-sizing: border-box;top: 0;bottom: 0;left: 50%;z-index: 0;}#sk-container-id-2 div.sk-serial {display: flex;flex-direction: column;align-items: center;background-color: white;padding-right: 0.2em;padding-left: 0.2em;position: relative;}#sk-container-id-2 div.sk-item {position: relative;z-index: 1;}#sk-container-id-2 div.sk-parallel {display: flex;align-items: stretch;justify-content: center;background-color: white;position: relative;}#sk-container-id-2 div.sk-item::before, #sk-container-id-2 div.sk-parallel-item::before {content: \"\";position: absolute;border-left: 1px solid gray;box-sizing: border-box;top: 0;bottom: 0;left: 50%;z-index: -1;}#sk-container-id-2 div.sk-parallel-item {display: flex;flex-direction: column;z-index: 1;position: relative;background-color: white;}#sk-container-id-2 div.sk-parallel-item:first-child::after {align-self: flex-end;width: 50%;}#sk-container-id-2 div.sk-parallel-item:last-child::after {align-self: flex-start;width: 50%;}#sk-container-id-2 div.sk-parallel-item:only-child::after {width: 0;}#sk-container-id-2 div.sk-dashed-wrapped {border: 1px dashed gray;margin: 0 0.4em 0.5em 0.4em;box-sizing: border-box;padding-bottom: 0.4em;background-color: white;}#sk-container-id-2 div.sk-label label {font-family: monospace;font-weight: bold;display: inline-block;line-height: 1.2em;}#sk-container-id-2 div.sk-label-container {text-align: center;}#sk-container-id-2 div.sk-container {/* jupyter's `normalize.less` sets `[hidden] { display: none; }` but bootstrap.min.css set `[hidden] { display: none !important; }` so we also need the `!important` here to be able to override the default hidden behavior on the sphinx rendered scikit-learn.org. See: https://github.com/scikit-learn/scikit-learn/issues/21755 */display: inline-block !important;position: relative;}#sk-container-id-2 div.sk-text-repr-fallback {display: none;}</style><div id=\"sk-container-id-2\" class=\"sk-top-container\"><div class=\"sk-text-repr-fallback\"><pre>NearestNeighbors(algorithm=&#x27;brute&#x27;)</pre><b>In a Jupyter environment, please rerun this cell to show the HTML representation or trust the notebook. <br />On GitHub, the HTML representation is unable to render, please try loading this page with nbviewer.org.</b></div><div class=\"sk-container\" hidden><div class=\"sk-item\"><div class=\"sk-estimator sk-toggleable\"><input class=\"sk-toggleable__control sk-hidden--visually\" id=\"sk-estimator-id-2\" type=\"checkbox\" checked><label for=\"sk-estimator-id-2\" class=\"sk-toggleable__label sk-toggleable__label-arrow\">NearestNeighbors</label><div class=\"sk-toggleable__content\"><pre>NearestNeighbors(algorithm=&#x27;brute&#x27;)</pre></div></div></div></div></div>"
      ],
      "text/plain": [
       "NearestNeighbors(algorithm='brute')"
      ]
     },
     "execution_count": 20,
     "metadata": {},
     "output_type": "execute_result"
    }
   ],
   "source": [
    "from sklearn.neighbors import KNeighborsClassifier\n",
    "from scipy.sparse import csr_matrix\n",
    "\n",
    "book_sparse=csr_matrix(train_x_scaled)\n",
    "model=NearestNeighbors(algorithm='brute')\n",
    "model.fit(book_sparse)"
   ]
  },
  {
   "cell_type": "code",
   "execution_count": 21,
   "metadata": {},
   "outputs": [],
   "source": [
    "distances,suggestions=model.kneighbors(train_x.iloc[237,:].values.reshape(1,-1),n_neighbors=6)"
   ]
  },
  {
   "cell_type": "code",
   "execution_count": 22,
   "metadata": {},
   "outputs": [],
   "source": [
    "distances, suggestions = model.kneighbors(train_x.iloc[237, :].values.reshape(1, -1), n_neighbors=6)\n",
    "\n",
    "# Now, use a classifier (e.g., KNeighborsClassifier) for prediction on the test set\n",
    "knn_classifier = KNeighborsClassifier(n_neighbors=6)\n",
    "knn_classifier.fit(train_x_scaled, train_y)  # Assuming train_y contains labels for train_x\n",
    "\n",
    "# Predict labels for the test set using the classifier\n",
    "predicted_labels = knn_classifier.predict(test_x_scaled)"
   ]
  },
  {
   "cell_type": "code",
   "execution_count": 23,
   "metadata": {},
   "outputs": [
    {
     "data": {
      "text/plain": [
       "{'Accuracy': 0.8110049117217576,\n",
       " 'Precision': 0.40002266369099393,\n",
       " 'Recall': 0.3542642461452004}"
      ]
     },
     "execution_count": 23,
     "metadata": {},
     "output_type": "execute_result"
    }
   ],
   "source": [
    "predicted_labels = knn_classifier.predict(test_x_scaled)\n",
    "\n",
    "# Calculate evaluation metrics using the predicted_labels and test_y\n",
    "results_dict = {\n",
    "    'Accuracy': accuracy_score(test_y, predicted_labels),\n",
    "    'Precision': precision_score(test_y, predicted_labels, average='macro'),\n",
    "    'Recall': recall_score(test_y, predicted_labels, average='macro')\n",
    "}\n",
    "results_dict"
   ]
  },
  {
   "cell_type": "code",
   "execution_count": 24,
   "metadata": {},
   "outputs": [],
   "source": [
    "# from mlxtend.plotting import plot_learning_curves\n",
    "# import matplotlib.pyplot as plt\n",
    "\n",
    "# # Plotting learning curve\n",
    "# plot_learning_curves(X_test=test_x, y_test=test_y, clf=knn_classifier, X_train=train_x_scaled, y_train=train_y)\n",
    "# plt.show()"
   ]
  }
 ],
 "metadata": {
  "kernelspec": {
   "display_name": "Python 3.10.4 ('CIS377')",
   "language": "python",
   "name": "python3"
  },
  "language_info": {
   "codemirror_mode": {
    "name": "ipython",
    "version": 3
   },
   "file_extension": ".py",
   "mimetype": "text/x-python",
   "name": "python",
   "nbconvert_exporter": "python",
   "pygments_lexer": "ipython3",
   "version": "3.9.15"
  },
  "orig_nbformat": 4,
  "vscode": {
   "interpreter": {
    "hash": "ae27e5faff12d3b35142a2b07ac9769f6eb8241ce309f37c8919cf630e5a59b6"
   }
  }
 },
 "nbformat": 4,
 "nbformat_minor": 2
}
